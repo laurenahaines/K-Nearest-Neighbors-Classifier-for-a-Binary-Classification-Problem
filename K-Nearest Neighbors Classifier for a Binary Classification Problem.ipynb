{
 "cells": [
  {
   "cell_type": "markdown",
   "metadata": {},
   "source": [
    "# K-Nearest Neighbors Classifier for a Binary Classification Problem"
   ]
  },
  {
   "cell_type": "code",
   "execution_count": 63,
   "metadata": {},
   "outputs": [],
   "source": [
    "from datascience import *\n",
    "import numpy as np\n",
    "import matplotlib\n",
    "%matplotlib inline\n",
    "import matplotlib.pyplot as plots\n",
    "plots.style.use('fivethirtyeight')"
   ]
  },
  {
   "cell_type": "markdown",
   "metadata": {},
   "source": [
    "## Mathematical Functions\n",
    "\n",
    "- Convert an array of integers and/or floats to standard units\n",
    "- Find the Euclidean distance between two arrays of integers and/or floats\n",
    "- Find the Euclidean distance between two rows containing integers and/or floats\n",
    "- Find the Euclidean distance between a row of unclassified data and each row in a table of classified data"
   ]
  },
  {
   "cell_type": "code",
   "execution_count": 64,
   "metadata": {},
   "outputs": [],
   "source": [
    "def standard_units(arr):\n",
    "    '''Take an array containing integers or floats\n",
    "    Return in standard units'''\n",
    "    return (arr - np.mean(arr))/np.std(arr)\n",
    "\n",
    "def distance(arr1, arr2):\n",
    "    '''Take two arrays containing integers or floats\n",
    "    Return the Euclidean distance between the two arrays'''\n",
    "    return np.sqrt(sum((arr1 - arr2)**2))\n",
    "\n",
    "def row_distance(row1, row2):\n",
    "    '''Take two rows containing integers or floats\n",
    "    Return the Euclidean distance between the two rows'''\n",
    "    return distance(np.array(row1), np.array(row2))\n",
    "\n",
    "def distances(training_data_table, testing_data_row):\n",
    "    '''Take a table of classified (training) data and a row from a table of unclassified (testing) data\n",
    "    Return the training table with a column for Euclidean distance from the test row'''\n",
    "    distances = make_array()\n",
    "    attributes_only = training_data_table.drop('Class')\n",
    "    \n",
    "    for i in np.arange(attributes_only.num_rows):\n",
    "        training_data_table_row = attributes_only.row(i)\n",
    "        distances = np.append(distances, row_distance(training_data_table_row, testing_data_row))\n",
    "        \n",
    "    return training_data_table.with_column('Distance', distances)"
   ]
  },
  {
   "cell_type": "markdown",
   "metadata": {},
   "source": [
    "## Classification Functions\n",
    "\n",
    "- Find the k-nearest rows from a table of classified data to a row of unclassified data\n",
    "- Find the majority classification of the k-nearest rows from a table of classified data to a row of unclassified data\n",
    "- Find the classification of a row of unclassified data based on the majority classification of the k-nearest rows from a table of classified data "
   ]
  },
  {
   "cell_type": "code",
   "execution_count": 65,
   "metadata": {},
   "outputs": [],
   "source": [
    "def closest(classified_table, unclassified_row, k):\n",
    "    '''Take a table of classified data, a row of unclassified data, and an integer (k)\n",
    "    Return the k-nearest rows from the table of classified data to the row of unclassified data'''\n",
    "    return distances(classified_table, unclassified_row).sort('Distance').take(np.arange(k))\n",
    "\n",
    "def majority_class(k_nearest_rows):\n",
    "    '''Take the k-nearest rows from a table of classified data to a row of unclassified data\n",
    "    Return the majority classification'''\n",
    "    return k_nearest_rows.group('Class').sort('count', descending=True).column(0).item(0)\n",
    "\n",
    "def classify(classified_table, unclassified_row, k):\n",
    "    '''Take a table of classified data, a row of unclassified data, and an integer (k)\n",
    "    Return the expected classification of the unclassified row based on the majority classification of the k-nearest rows from the classified table''' \n",
    "    return majority_class(closest(classified_table, unclassified_row, k))"
   ]
  },
  {
   "cell_type": "markdown",
   "metadata": {},
   "source": [
    "## Evaluation Functions\n",
    "- Find the overall accuracy of the k-nearest neighbors classifier defined as classify()\n",
    "- Find the class-specific accuracy of the k-nearest neighbors classifier defined as classify()"
   ]
  },
  {
   "cell_type": "code",
   "execution_count": 66,
   "metadata": {},
   "outputs": [],
   "source": [
    "def evaluate_accuracy(training_table, testing_table, k):\n",
    "    '''Take a table of training data, a table of testing data, and an integer (k)\n",
    "    Return the proportion of rows from the testing table correctly classified by classify()'''\n",
    "    num_correct = 0\n",
    "    \n",
    "    for i in np.arange(testing_table.num_rows):\n",
    "        c = classify(training_table, testing_table.drop('Class').row(i), k)\n",
    "        num_correct = num_correct + (c == testing_table.column('Class').item(i))\n",
    "    \n",
    "    return num_correct / testing_table.num_rows\n",
    "\n",
    "def evaluate_accuracy_by_class(training_table, testing_table, k):\n",
    "    '''Take a table of training data, a table of testing data, and an integer (k)\n",
    "    Return the proportion of rows from the testing table correctly classified by classify() for each class'''\n",
    "    \n",
    "    num_c0_correct = 0\n",
    "    num_c1_correct = 0\n",
    "    \n",
    "    for i in np.arange(testing_table.num_rows):\n",
    "        c = classify(training_table, testing_table.drop('Class').row(i), k)\n",
    "        if testing_table.column('Class').item(i) == 0:\n",
    "            num_c0_correct = num_c0_correct + (c == testing_table.column('Class').item(i))\n",
    "        if testing_table.column('Class').item(i) == 1:\n",
    "            num_c1_correct = num_c1_correct + (c == testing_table.column('Class').item(i))\n",
    "    \n",
    "    prop_c0_correct = num_c0_correct / testing_table.where('Class', 0).num_rows\n",
    "    prop_c1_correct = num_c1_correct / testing_table.where('Class', 1).num_rows\n",
    "    \n",
    "    return Table().with_columns(\n",
    "        'Class 0 Accuracy', make_array(prop_c0_correct), \n",
    "        'Class 1 Accuracy', make_array(prop_c1_correct)\n",
    "    )"
   ]
  },
  {
   "cell_type": "markdown",
   "metadata": {},
   "source": [
    "## Example: Classification of Currency as Counterfeit or Legitimate"
   ]
  },
  {
   "cell_type": "markdown",
   "metadata": {
    "tags": []
   },
   "source": [
    "The \"banknotes\" table has five columns: WaveletVar, WaveletSkew, WaveletCurt, Entropy, and Class\n",
    "- Rows represent banknotes\n",
    "- Columns WaveletVar-Entropy represent banknote attributes as integers or floats\n",
    "- Column Class represents banknote legitimacy as 0-counterfeit or 1-legitimate"
   ]
  },
  {
   "cell_type": "code",
   "execution_count": 67,
   "metadata": {},
   "outputs": [],
   "source": [
    "banknotes = Table.read_table('banknote.csv')"
   ]
  },
  {
   "cell_type": "markdown",
   "metadata": {
    "tags": []
   },
   "source": [
    "The standard_units() function is used to create a standardized \"banknotes\" table by converting the attribute columns into standard units."
   ]
  },
  {
   "cell_type": "code",
   "execution_count": 68,
   "metadata": {},
   "outputs": [],
   "source": [
    "banknotes_standard_units = Table().with_columns(\n",
    "    'WaveletVar', standard_units(banknotes.column('WaveletVar')),\n",
    "    'WaveletSkew', standard_units(banknotes.column('WaveletSkew')),\n",
    "    'WaveletCurt', standard_units(banknotes.column('WaveletCurt')),\n",
    "    'Entropy', standard_units(banknotes.column('Entropy')),\n",
    "    'Class', banknotes.column('Class'))"
   ]
  },
  {
   "cell_type": "markdown",
   "metadata": {
    "tags": []
   },
   "source": [
    "The standardized \"banknotes\" table is shuffled and split into a table of training data and a table of testing data. \n",
    "- 80 percent of the rows from the \"banknotes\" table are allocated for training\n",
    "- 20 percent of the rows from the \"banknotes\" table are allocated for testing"
   ]
  },
  {
   "cell_type": "code",
   "execution_count": 69,
   "metadata": {},
   "outputs": [],
   "source": [
    "shuffled_table = banknotes_standard_units.sample(with_replacement=False) \n",
    "training_table = shuffled_table.take(np.arange(int(np.round(banknotes.num_rows * 0.80))))\n",
    "testing_table  = shuffled_table.take(np.arange(int(np.round(banknotes.num_rows * 0.80)), banknotes.num_rows))"
   ]
  },
  {
   "cell_type": "markdown",
   "metadata": {
    "tags": []
   },
   "source": [
    "The classify() function is applied to classify each row from the testing table based on the majority classification of the nine nearest rows from the training table (k = 9). The overall and class-specific accuracy of the classify() function in this example is evaluated as the proportion of rows from the testing table correctly classified."
   ]
  },
  {
   "cell_type": "code",
   "execution_count": 70,
   "metadata": {},
   "outputs": [
    {
     "data": {
      "text/plain": [
       "0.9890510948905109"
      ]
     },
     "execution_count": 70,
     "metadata": {},
     "output_type": "execute_result"
    }
   ],
   "source": [
    "evaluate_accuracy(training_table, testing_table, 9)"
   ]
  },
  {
   "cell_type": "code",
   "execution_count": 71,
   "metadata": {},
   "outputs": [
    {
     "data": {
      "text/html": [
       "<table border=\"1\" class=\"dataframe\">\n",
       "    <thead>\n",
       "        <tr>\n",
       "            <th>Class 0 Accuracy</th> <th>Class 1 Accuracy</th>\n",
       "        </tr>\n",
       "    </thead>\n",
       "    <tbody>\n",
       "        <tr>\n",
       "            <td>0.978723        </td> <td>1               </td>\n",
       "        </tr>\n",
       "    </tbody>\n",
       "</table>"
      ],
      "text/plain": [
       "Class 0 Accuracy | Class 1 Accuracy\n",
       "0.978723         | 1"
      ]
     },
     "execution_count": 71,
     "metadata": {},
     "output_type": "execute_result"
    }
   ],
   "source": [
    "accuracy_table = evaluate_accuracy_by_class(training_table, testing_table, 9)\n",
    "accuracy_table"
   ]
  }
 ],
 "metadata": {
  "kernelspec": {
   "display_name": "Python 3 (ipykernel)",
   "language": "python",
   "name": "python3"
  },
  "language_info": {
   "codemirror_mode": {
    "name": "ipython",
    "version": 3
   },
   "file_extension": ".py",
   "mimetype": "text/x-python",
   "name": "python",
   "nbconvert_exporter": "python",
   "pygments_lexer": "ipython3",
   "version": "3.9.13"
  }
 },
 "nbformat": 4,
 "nbformat_minor": 4
}
